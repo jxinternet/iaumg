{
  "nbformat": 4,
  "nbformat_minor": 0,
  "metadata": {
    "colab": {
      "provenance": []
    },
    "kernelspec": {
      "name": "python3",
      "display_name": "Python 3"
    },
    "language_info": {
      "name": "python"
    }
  },
  "cells": [
    {
      "cell_type": "markdown",
      "source": [
        "Proyecto de Inteligencia Artificial "
      ],
      "metadata": {
        "id": "A-KdPUgMXLlX"
      }
    },
    {
      "cell_type": "markdown",
      "source": [
        "Desarrollar un modelo de aprendizaje automatico en Tensorflow que dado un conjunto de transacciones con tarjeta de crédito, se quiere diseñar una red neuronal que sea capaz de identificar transacciones fraudulentas"
      ],
      "metadata": {
        "id": "IkHWQKBcXXIv"
      }
    },
    {
      "cell_type": "code",
      "execution_count": null,
      "metadata": {
        "id": "1cHp55GeXKie"
      },
      "outputs": [],
      "source": [
        "import pandas as pd\n",
        "import numpy as np\n",
        "import tensorflow as tf\n",
        "from tensorflow import keras\n",
        "from sklearn.model_selection import train_test_split\n",
        "from sklearn.ensemble import RandomForestClassifier\n",
        "from xgboost import XGBClassifier\n",
        "from sklearn.metrics import precision_score, recall_score, f1_score, roc_auc_score"
      ]
    },
    {
      "cell_type": "code",
      "source": [
        "# Cargar el dataset\n",
        "df = pd.read_csv('creditcard.csv')\n",
        "\n",
        "# Aplicar el dataset into train, validation, y test sets\n",
        "X_train, X_test, y_train, y_test = train_test_split(\n",
        "    df.drop(['Class', 'Time'], axis=1), df['Class'], test_size=0.2, random_state=42)\n",
        "X_train, X_val, y_train, y_val = train_test_split(X_train, y_train, test_size=0.25, random_state=42)"
      ],
      "metadata": {
        "id": "eixwnHqQXvqd"
      },
      "execution_count": null,
      "outputs": []
    },
    {
      "cell_type": "code",
      "source": [
        "# Definir las metricas de la red neuronal\n",
        "precision = tf.keras.metrics.Precision(name='precision')\n",
        "recall = tf.keras.metrics.Recall(name='recall')\n",
        "auc = tf.keras.metrics.AUC(name='auc')"
      ],
      "metadata": {
        "id": "ITgxFgI5XzYS"
      },
      "execution_count": null,
      "outputs": []
    },
    {
      "cell_type": "code",
      "source": [
        "# Definir la arquitectura\n",
        "model = tf.keras.Sequential([\n",
        "    tf.keras.layers.Dense(256, activation='relu', input_shape=(X_train.shape[1],)),\n",
        "    tf.keras.layers.Dropout(0.5),\n",
        "    tf.keras.layers.Dense(128, activation='relu'),\n",
        "    tf.keras.layers.Dropout(0.3),\n",
        "    tf.keras.layers.Dense(64, activation='relu'),\n",
        "    tf.keras.layers.Dropout(0.2),\n",
        "    tf.keras.layers.Dense(32, activation='relu'),\n",
        "    tf.keras.layers.Dropout(0.1),\n",
        "    tf.keras.layers.Dense(1, activation='sigmoid')\n",
        "])"
      ],
      "metadata": {
        "id": "2dNXqUKhX3qy"
      },
      "execution_count": null,
      "outputs": []
    },
    {
      "cell_type": "code",
      "source": [
        "# Compilar el modelo\n",
        "model.compile(optimizer='adam', loss='binary_crossentropy', metrics=['accuracy', precision, recall, auc])\n",
        "\n",
        "callback = tf.keras.callbacks.EarlyStopping(monitor='val_loss', patience=10)\n",
        "\n",
        "# Train the model\n",
        "history = model.fit(X_train,\n",
        "                    y_train,\n",
        "                    epochs=20,\n",
        "                    batch_size=512,\n",
        "                    validation_data=(X_val, y_val),\n",
        "                    callbacks=[callback]\n",
        "                   )"
      ],
      "metadata": {
        "id": "g9QCNUakYHR_"
      },
      "execution_count": null,
      "outputs": []
    },
    {
      "cell_type": "code",
      "source": [
        "# Evaluar el modelo\n",
        "test_loss, test_acc, test_prec, test_rec, test_auc = model.evaluate(X_test, y_test)\n",
        "print('Test Loss:', test_loss)\n",
        "print('Test Accuracy:', test_acc)\n",
        "print('Test Precision:', test_prec)\n",
        "print('Test Recall:', test_rec)\n",
        "print('Test AUC:', test_auc)"
      ],
      "metadata": {
        "id": "POq7B4aOYN5D"
      },
      "execution_count": null,
      "outputs": []
    },
    {
      "cell_type": "code",
      "source": [
        "rf = RandomForestClassifier(n_estimators=100, random_state=42, class_weight={0: 1, 1: 50})\n",
        "rf.fit(X_train, y_train)\n",
        "\n",
        "# Hacer predicciones\n",
        "y_pred_rf = rf.predict(X_test)\n",
        "\n",
        "# Calcula la precision, recall, F1-score, y AUC\n",
        "precision_rf = precision_score(y_test, y_pred_rf)\n",
        "recall_rf = recall_score(y_test, y_pred_rf)\n",
        "f1score_rf = f1_score(y_test, y_pred_rf, average='weighted')\n",
        "auc_rf = roc_auc_score(y_test, y_pred_rf)\n",
        "\n",
        "xgb = XGBClassifier(n_estimators=100, random_state=42, scale_pos_weight=50)\n",
        "xgb.fit(X_train, y_train)\n",
        "\n",
        "y_pred_xgb = xgb.predict(X_test)\n",
        "\n",
        "precision_xgb = precision_score(y_test, y_pred_xgb)\n",
        "recall_xgb = recall_score(y_test, y_pred_xgb)\n",
        "f1score_xgb = f1_score(y_test, y_pred_xgb, average='weighted')\n",
        "auc_xgb = roc_auc_score(y_test, y_pred_xgb)"
      ],
      "metadata": {
        "id": "BGiK2yYjYScl"
      },
      "execution_count": null,
      "outputs": []
    },
    {
      "cell_type": "code",
      "source": [
        "# Muestra los resultados\n",
        "print('Random Forest Classifier:')\n",
        "print('Precision:', precision_rf)\n",
        "print('Recall:', recall_rf)\n",
        "print('F1-score:', f1score_rf)\n",
        "print('AUC:', auc_rf)\n",
        "\n",
        "print('\\nXGBoost Classifier:')\n",
        "print('Precision:', precision_xgb)\n",
        "print('Recall:', recall_xgb)\n",
        "print('F1-score:', f1score_xgb)\n",
        "print('AUC:', auc_xgb)"
      ],
      "metadata": {
        "id": "84tMreg6YkcZ"
      },
      "execution_count": null,
      "outputs": []
    }
  ]
}